{
 "cells": [
  {
   "cell_type": "markdown",
   "metadata": {},
   "source": [
    "# Device"
   ]
  },
  {
   "cell_type": "code",
   "execution_count": null,
   "metadata": {},
   "outputs": [],
   "source": [
    "import socket\n",
    "import utils\n",
    "\n",
    "k_mb = utils.generate_key()\n",
    "\n",
    "# Simplified reception of data; in practice, set up a connection\n",
    "data = received_data()\n",
    "nonce, m1_h1 = data[:16], data[16:]\n",
    "m1, h1 = m1_h1[:-32], m1_h1[-32:]\n",
    "\n",
    "decrypted_data = utils.decrypt(m1, k_mb, nonce)\n",
    "if utils.hash1(nonce, decrypted_data, k_mb) == h1:\n",
    "    print(\"Request Verified:\", decrypted_data.decode())\n"
   ]
  }
 ],
 "metadata": {
  "kernelspec": {
   "display_name": "Python 3",
   "language": "python",
   "name": "python3"
  },
  "language_info": {
   "name": "python",
   "version": "3.10.11"
  }
 },
 "nbformat": 4,
 "nbformat_minor": 2
}

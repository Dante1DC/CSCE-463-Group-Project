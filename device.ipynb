{
 "cells": [
  {
   "cell_type": "markdown",
   "metadata": {},
   "source": [
    "# Device"
   ]
  },
  {
   "cell_type": "markdown",
   "metadata": {},
   "source": [
    "CODE IN DEVELOPMENT"
   ]
  },
  {
   "cell_type": "code",
   "execution_count": null,
   "metadata": {},
   "outputs": [],
   "source": [
    "import socket\n",
    "\n",
    "from util import SERVER, SIZE_K, SIZE_N, decrypt, encrypt, hash, generate_n\n",
    "\n",
    "def device():\n",
    "    kdc_sock = socket.socket(socket.AF_INET, socket.SOCK_STREAM)\n",
    "    kdc_sock.connect((SERVER[\"alias\"], SERVER[\"port\"] + 1))\n",
    "    k_md = kdc_sock.recv(SIZE_K)\n",
    "    print(f\"device received AES key (k_md) from KDC: {k_md.hex()}\")\n",
    "\n",
    "    device_sock = socket.socket(socket.AF_INET, socket.SOCK_STREAM)\n",
    "    device_sock.bind((SERVER[\"alias\"], SERVER[\"port\"] + 3))\n",
    "    device_sock.listen(1)\n",
    "    print(\"device listening on {}:{}\".format(SERVER[\"alias\"], SERVER[\"port\"] + 3))\n",
    "\n",
    "    conn, addr = device_sock.accept()\n",
    "    print(\"connected to server at {}\".format(addr))\n",
    "\n",
    "    received_data = conn.recv(1024)\n",
    "    ciphertext = received_data[:len(received_data) - len(auth_code)]\n",
    "    auth_code = received_data[len(received_data) - len(auth_code):]\n",
    "    nonce = auth_code[:SIZE_N]\n",
    "\n",
    "    message = decrypt(ciphertext, k_md, nonce)\n",
    "    if hash(message, k_md, nonce) == auth_code[SIZE_N:]:\n",
    "        print(f\"received message from server: {message.decode()}\")\n",
    "    else:\n",
    "        print(\"authentication failed. L.\")\n",
    "\n",
    "    message = b\"bruh\"\n",
    "    nonce = generate_n()\n",
    "    ciphertext = encrypt(message, k_md, nonce)\n",
    "    auth_code = hash(message, k_md, nonce)\n",
    "\n",
    "    conn.send(ciphertext + auth_code)\n",
    "\n",
    "    print(\"message sent to server\")\n",
    "\n",
    "if __name__ == \"__main__\":\n",
    "    device()"
   ]
  }
 ],
 "metadata": {
  "kernelspec": {
   "display_name": "Python 3",
   "language": "python",
   "name": "python3"
  },
  "language_info": {
   "codemirror_mode": {
    "name": "ipython",
    "version": 3
   },
   "file_extension": ".py",
   "mimetype": "text/x-python",
   "name": "python",
   "nbconvert_exporter": "python",
   "pygments_lexer": "ipython3",
   "version": "3.10.11"
  }
 },
 "nbformat": 4,
 "nbformat_minor": 2
}

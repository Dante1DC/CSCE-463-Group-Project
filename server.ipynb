{
 "cells": [
  {
   "cell_type": "markdown",
   "metadata": {},
   "source": [
    "# Server"
   ]
  },
  {
   "cell_type": "code",
   "execution_count": 2,
   "metadata": {},
   "outputs": [],
   "source": [
    "import util"
   ]
  },
  {
   "cell_type": "markdown",
   "metadata": {},
   "source": [
    "The util.py file contains a couple useful methods and packages. It contains the entire socket package, the entire Cryptodome package, as well as the following methods: \n",
    "- encrypt(message, key, nonce)\n",
    "- decrypt(ciphertext, key, nonce)\n",
    "- hash(message, key, nonce)\n",
    "- generate_n()\n",
    "- generate_k()\n",
    "These methods all use various Cryptodome features, with several constants to ensure we're building based on the same model design."
   ]
  },
  {
   "cell_type": "code",
   "execution_count": 3,
   "metadata": {},
   "outputs": [
    {
     "name": "stdout",
     "output_type": "stream",
     "text": [
      "b'\\x0b\\xdb\\xff)ZFT\\x7f\\x1cL8v\\xcc\\x08\\\\O'\n",
      "b'\\xc8U\\x9c\\xe5:\\x19\\xae\\xe4\\t\\x02U\\xd5\\xf9\\xb4B\\x85F \\xaa\\xd7@ \\x81\\x1e~\\x0cZC\\x95\\xfc)\\xf3\\xaa{\\x08\\x8c\\x10\\xb9\\x8e\\xe8Oa\\xb1\\xa6qh'\n",
      "b'\\xc8U\\x9c\\xe5:\\x19\\xae\\xe4\\t\\x02U\\xd5\\xf9\\xb4'\n",
      "b'B\\x85F \\xaa\\xd7@ \\x81\\x1e~\\x0cZC\\x95\\xfc)\\xf3\\xaa{\\x08\\x8c\\x10\\xb9\\x8e\\xe8Oa\\xb1\\xa6qh'\n"
     ]
    }
   ],
   "source": [
    "k_ma = util.generate_k()\n",
    "k_mb = util.generate_k()\n",
    "\n",
    "server_socket = util.socket.socket(util.socket.AF_INET, util.socket.SOCK_STREAM)\n",
    "server_socket.bind((util.SERVER[\"alias\"], util.SERVER[\"port\"]))\n",
    "server_socket.listen(1)\n",
    "\n",
    "while True:\n",
    "    connection, client_address = server_socket.accept()\n",
    "    try:\n",
    "        data = connection.recv(1024)\n",
    "        n, m_h = data[:util.SIZE_N], data[util.SIZE_N:]\n",
    "        print(n)\n",
    "        print(m_h)\n",
    "        m, h = m_h[:-util.SIZE_K], m_h[-util.SIZE_K:]\n",
    "        print(m)\n",
    "        print(h)\n",
    "\n",
    "        decrypted_data = util.decrypt(m, k_ma, n)\n",
    "        if util.hash(n, decrypted_data, k_ma) == h:\n",
    "            N2 = util.generate_n()\n",
    "            h1 = util.hash(N2, decrypted_data, k_mb)\n",
    "            m1 = util.encrypt(decrypted_data, k_mb, N2)\n",
    "            connection.sendall(N2 + m1 + h1)\n",
    "    finally:\n",
    "        connection.close()\n"
   ]
  },
  {
   "cell_type": "markdown",
   "metadata": {},
   "source": [
    "CODE IN DEVELOPMENT:"
   ]
  },
  {
   "cell_type": "code",
   "execution_count": 1,
   "metadata": {},
   "outputs": [
    {
     "name": "stdout",
     "output_type": "stream",
     "text": [
      "server's RSA keys:\n",
      "server listening on localhost:1000\n",
      "connected to ('127.0.0.1', 8740)\n"
     ]
    }
   ],
   "source": [
    "from Crypto.PublicKey import RSA\n",
    "from Crypto.Cipher import PKCS1_OAEP\n",
    "from Crypto.Hash import SHA256\n",
    "import socket\n",
    "\n",
    "from util import SERVER, generate_n, encrypt, decrypt, hash\n",
    "\n",
    "import util\n",
    "\n",
    "def server():\n",
    "    private_key = util.SERVER_PRIVATE_KEY\n",
    "    public_key = util.PUBLIC_KEY\n",
    "\n",
    "    print(\"server's RSA keys:\")\n",
    "    #print(f\"Private Key: {private_key.decode()}\")\n",
    "    #print(f\"Public Key: {public_key.decode()}\")\n",
    "\n",
    "    sock = socket.socket(socket.AF_INET, socket.SOCK_STREAM)\n",
    "    sock.bind((SERVER[\"alias\"], SERVER[\"port\"]))\n",
    "    sock.listen(1)\n",
    "    print(\"server listening on {}:{}\".format(SERVER[\"alias\"], SERVER[\"port\"]))\n",
    "\n",
    "    conn, addr = sock.accept()\n",
    "    print(\"connected to {}\".format(addr))\n",
    "\n",
    "    received_data = conn.recv(1024)\n",
    "    encrypted_nonce_p = received_data[:256]\n",
    "    phone_public_key = received_data[256:]\n",
    "\n",
    "    cipher = PKCS1_OAEP.new(RSA.import_key(private_key))\n",
    "    nonce_p = cipher.decrypt(encrypted_nonce_p)\n",
    "\n",
    "    nonce_s = generate_n()\n",
    "    cipher = PKCS1_OAEP.new(RSA.import_key(public_key))\n",
    "    encrypted_nonce_s = cipher.encrypt(nonce_s)\n",
    "    conn.send(encrypted_nonce_s + public_key)\n",
    "\n",
    "    encrypted_nonce_s = conn.recv(256)\n",
    "    cipher = PKCS1_OAEP.new(RSA.import_key(phone_public_key))\n",
    "    received_nonce_s = cipher.decrypt(encrypted_nonce_s)\n",
    "\n",
    "    if received_nonce_s == nonce_s:\n",
    "        print(\"3-way handshake completed\")\n",
    "    else:\n",
    "        print(\"3-way handshake failed omg\")\n",
    "\n",
    "    kdc_sock = socket.socket(socket.AF_INET, socket.SOCK_STREAM)\n",
    "    kdc_sock.connect((SERVER[\"alias\"], SERVER[\"port\"] + 1))\n",
    "    k_ms = kdc_sock.recv(util.SIZE_K)\n",
    "    print(f\"server received AES key (k_ms) from KDC: {k_ms.hex()}\")\n",
    "    \n",
    "    encrypted_message = conn.recv(1024)\n",
    "    cipher = PKCS1_OAEP.new(RSA.import_key(private_key))\n",
    "    message = cipher.decrypt(encrypted_message)\n",
    "    print(f\"received message from phone: {message.decode()}\")\n",
    "\n",
    "    nonce = generate_n()\n",
    "    ciphertext = encrypt(message, k_ms, nonce)\n",
    "    auth_code = hash(message, k_ms, nonce)\n",
    "\n",
    "    device_sock = socket.socket(socket.AF_INET, socket.SOCK_STREAM)\n",
    "    device_sock.connect((SERVER[\"alias\"], SERVER[\"port\"] + 3))\n",
    "    device_sock.send(ciphertext + auth_code)\n",
    "\n",
    "    received_data = device_sock.recv(1024)\n",
    "    ciphertext = received_data[:len(received_data) - len(auth_code)]\n",
    "    auth_code = received_data[len(received_data) - len(auth_code):]\n",
    "\n",
    "    message = decrypt(ciphertext, k_ms, nonce)\n",
    "    if hash(message, k_ms, nonce) == auth_code:\n",
    "        print(f\"received message from device: {message.decode()}\")\n",
    "    else:\n",
    "        print(\"authentication failed for received message from device\")\n",
    "\n",
    "    message = b\"bruh\"\n",
    "    cipher = PKCS1_OAEP.new(RSA.import_key(public_key))\n",
    "    encrypted_message = cipher.encrypt(message)\n",
    "    conn.send(encrypted_message)\n",
    "\n",
    "    print(\"message sent to phone\")\n",
    "\n",
    "if __name__ == \"__main__\":\n",
    "    server()"
   ]
  }
 ],
 "metadata": {
  "kernelspec": {
   "display_name": "Python 3",
   "language": "python",
   "name": "python3"
  },
  "language_info": {
   "codemirror_mode": {
    "name": "ipython",
    "version": 3
   },
   "file_extension": ".py",
   "mimetype": "text/x-python",
   "name": "python",
   "nbconvert_exporter": "python",
   "pygments_lexer": "ipython3",
   "version": "3.10.11"
  }
 },
 "nbformat": 4,
 "nbformat_minor": 2
}

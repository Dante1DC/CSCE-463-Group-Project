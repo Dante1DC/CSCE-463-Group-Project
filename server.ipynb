{
 "cells": [
  {
   "cell_type": "markdown",
   "metadata": {},
   "source": [
    "# Server"
   ]
  },
  {
   "cell_type": "markdown",
   "metadata": {},
   "source": [
    "The util.py file contains a couple useful methods and packages. It contains the entire socket package, the entire Cryptodome package, as well as the following methods: \n",
    "- encrypt(message, key, nonce)\n",
    "- decrypt(ciphertext, key, nonce)\n",
    "- hash(message, key, nonce)\n",
    "- generate_n()\n",
    "- generate_k()\n",
    "These methods all use various Cryptodome features, with several constants to ensure we're building based on the same model design."
   ]
  },
  {
   "cell_type": "code",
   "execution_count": 1,
   "metadata": {},
   "outputs": [
    {
     "name": "stdout",
     "output_type": "stream",
     "text": [
      "server's RSA keys:\n",
      "server listening on localhost:3000\n",
      "connected to ('127.0.0.1', 59462)\n"
     ]
    },
    {
     "ename": "ValueError",
     "evalue": "Incorrect decryption.",
     "output_type": "error",
     "traceback": [
      "\u001b[1;31m---------------------------------------------------------------------------\u001b[0m",
      "\u001b[1;31mValueError\u001b[0m                                Traceback (most recent call last)",
      "Cell \u001b[1;32mIn[1], line 84\u001b[0m\n\u001b[0;32m     81\u001b[0m     \u001b[38;5;28mprint\u001b[39m(\u001b[38;5;124m\"\u001b[39m\u001b[38;5;124mmessage sent to phone\u001b[39m\u001b[38;5;124m\"\u001b[39m)\n\u001b[0;32m     83\u001b[0m \u001b[38;5;28;01mif\u001b[39;00m \u001b[38;5;18m__name__\u001b[39m \u001b[38;5;241m==\u001b[39m \u001b[38;5;124m\"\u001b[39m\u001b[38;5;124m__main__\u001b[39m\u001b[38;5;124m\"\u001b[39m:\n\u001b[1;32m---> 84\u001b[0m     \u001b[43mserver\u001b[49m\u001b[43m(\u001b[49m\u001b[43m)\u001b[49m\n",
      "Cell \u001b[1;32mIn[1], line 32\u001b[0m, in \u001b[0;36mserver\u001b[1;34m()\u001b[0m\n\u001b[0;32m     28\u001b[0m phone_public_key \u001b[38;5;241m=\u001b[39m received_data[\u001b[38;5;241m256\u001b[39m:]\n\u001b[0;32m     30\u001b[0m cipher \u001b[38;5;241m=\u001b[39m PKCS1_OAEP\u001b[38;5;241m.\u001b[39mnew(util\u001b[38;5;241m.\u001b[39mPHONE_PRIVATE_KEY, SHA256)\n\u001b[1;32m---> 32\u001b[0m nonce_p \u001b[38;5;241m=\u001b[39m \u001b[43mcipher\u001b[49m\u001b[38;5;241;43m.\u001b[39;49m\u001b[43mdecrypt\u001b[49m\u001b[43m(\u001b[49m\u001b[43mencrypted_nonce_p\u001b[49m\u001b[43m)\u001b[49m\n\u001b[0;32m     34\u001b[0m nonce_s \u001b[38;5;241m=\u001b[39m generate_n()\n\u001b[0;32m     35\u001b[0m cipher \u001b[38;5;241m=\u001b[39m PKCS1_OAEP\u001b[38;5;241m.\u001b[39mnew(public_key, SHA256)\n",
      "File \u001b[1;32m~\\AppData\\Local\\Packages\\PythonSoftwareFoundation.Python.3.12_qbz5n2kfra8p0\\LocalCache\\local-packages\\Python312\\site-packages\\Crypto\\Cipher\\PKCS1_OAEP.py:191\u001b[0m, in \u001b[0;36mPKCS1OAEP_Cipher.decrypt\u001b[1;34m(self, ciphertext)\u001b[0m\n\u001b[0;32m    189\u001b[0m res \u001b[38;5;241m=\u001b[39m oaep_decode(em, lHash, db)\n\u001b[0;32m    190\u001b[0m \u001b[38;5;28;01mif\u001b[39;00m res \u001b[38;5;241m<\u001b[39m\u001b[38;5;241m=\u001b[39m \u001b[38;5;241m0\u001b[39m:\n\u001b[1;32m--> 191\u001b[0m     \u001b[38;5;28;01mraise\u001b[39;00m \u001b[38;5;167;01mValueError\u001b[39;00m(\u001b[38;5;124m\"\u001b[39m\u001b[38;5;124mIncorrect decryption.\u001b[39m\u001b[38;5;124m\"\u001b[39m)\n\u001b[0;32m    192\u001b[0m \u001b[38;5;66;03m# Step 4\u001b[39;00m\n\u001b[0;32m    193\u001b[0m \u001b[38;5;28;01mreturn\u001b[39;00m db[res:]\n",
      "\u001b[1;31mValueError\u001b[0m: Incorrect decryption."
     ]
    }
   ],
   "source": [
    "from Crypto.PublicKey import RSA\n",
    "from Crypto.Cipher import PKCS1_OAEP\n",
    "from Crypto.Hash import SHA256\n",
    "import socket\n",
    "\n",
    "from util import SERVER, generate_n, encrypt, decrypt, hash\n",
    "\n",
    "import util\n",
    "\n",
    "def server():\n",
    "    private_key = util.SERVER_PRIVATE_KEY\n",
    "    public_key = util.SERVER_PUBLIC_KEY\n",
    "\n",
    "    print(\"server's RSA keys:\")\n",
    "    #print(f\"Private Key: {private_key.decode()}\")\n",
    "    #print(f\"Public Key: {public_key.decode()}\")\n",
    "\n",
    "    sock = socket.socket(socket.AF_INET, socket.SOCK_STREAM)\n",
    "    sock.bind((SERVER[\"alias\"], SERVER[\"port\"]))\n",
    "    sock.listen(1)\n",
    "    print(\"server listening on {}:{}\".format(SERVER[\"alias\"], SERVER[\"port\"]))\n",
    "\n",
    "    conn, addr = sock.accept()\n",
    "    print(\"connected to {}\".format(addr))\n",
    "\n",
    "    received_data = conn.recv(1024)\n",
    "    encrypted_nonce_p = received_data[:256]\n",
    "    phone_public_key = received_data[256:]\n",
    "\n",
    "    cipher = PKCS1_OAEP.new(util.PHONE_PRIVATE_KEY, SHA256)\n",
    "    \n",
    "    nonce_p = cipher.decrypt(encrypted_nonce_p)\n",
    "\n",
    "    nonce_s = generate_n()\n",
    "    cipher = PKCS1_OAEP.new(public_key, SHA256)\n",
    "    encrypted_nonce_s = cipher.encrypt(nonce_s)\n",
    "    conn.send(encrypted_nonce_s + public_key.export_key(\"PEM\"))\n",
    "\n",
    "    encrypted_nonce_s = conn.recv(1024)\n",
    "    cipher = PKCS1_OAEP.new(RSA.import_key(phone_public_key), SHA256)\n",
    "    received_nonce_s = cipher.decrypt(encrypted_nonce_s)\n",
    "\n",
    "    if received_nonce_s == nonce_s:\n",
    "        print(\"3-way handshake completed\")\n",
    "    else:\n",
    "        print(\"3-way handshake failed omg\")\n",
    "\n",
    "    kdc_sock = socket.socket(socket.AF_INET, socket.SOCK_STREAM)\n",
    "    kdc_sock.connect((SERVER[\"alias\"], SERVER[\"port\"] + 1))\n",
    "    k_ms = kdc_sock.recv(util.SIZE_K)\n",
    "    print(f\"server received AES key (k_ms) from KDC: {k_ms.hex()}\")\n",
    "    \n",
    "    encrypted_message = conn.recv(1024)\n",
    "    cipher = PKCS1_OAEP.new(private_key, SHA256)\n",
    "    message = cipher.decrypt(encrypted_message)\n",
    "    print(f\"received message from phone: {message.decode()}\")\n",
    "\n",
    "    nonce = generate_n()\n",
    "    ciphertext = encrypt(message, k_ms, nonce)\n",
    "    auth_code = hash(message, k_ms, nonce)\n",
    "\n",
    "    device_sock = socket.socket(socket.AF_INET, socket.SOCK_STREAM)\n",
    "    device_sock.connect((SERVER[\"alias\"], SERVER[\"port\"] + 3))\n",
    "    device_sock.send(ciphertext + auth_code)\n",
    "\n",
    "    received_data = device_sock.recv(1024)\n",
    "    ciphertext = received_data[:len(received_data) - len(auth_code)]\n",
    "    auth_code = received_data[len(received_data) - len(auth_code):]\n",
    "\n",
    "    message = decrypt(ciphertext, k_ms, nonce)\n",
    "    if hash(message, k_ms, nonce) == auth_code:\n",
    "        print(f\"received message from device: {message.decode()}\")\n",
    "    else:\n",
    "        print(\"authentication failed for received message from device\")\n",
    "\n",
    "    message = b\"bruh\"\n",
    "    cipher = PKCS1_OAEP.new(public_key, SHA256)\n",
    "    encrypted_message = cipher.encrypt(message)\n",
    "    conn.send(encrypted_message)\n",
    "\n",
    "    print(\"message sent to phone\")\n",
    "\n",
    "if __name__ == \"__main__\":\n",
    "    server()"
   ]
  }
 ],
 "metadata": {
  "kernelspec": {
   "display_name": "Python 3",
   "language": "python",
   "name": "python3"
  },
  "language_info": {
   "codemirror_mode": {
    "name": "ipython",
    "version": 3
   },
   "file_extension": ".py",
   "mimetype": "text/x-python",
   "name": "python",
   "nbconvert_exporter": "python",
   "pygments_lexer": "ipython3",
   "version": "3.12.3"
  }
 },
 "nbformat": 4,
 "nbformat_minor": 2
}

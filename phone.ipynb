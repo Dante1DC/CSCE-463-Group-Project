{
 "cells": [
  {
   "cell_type": "markdown",
   "metadata": {},
   "source": [
    "# Phone"
   ]
  },
  {
   "cell_type": "code",
   "execution_count": 1,
   "metadata": {},
   "outputs": [
    {
     "name": "stdout",
     "output_type": "stream",
     "text": [
      "1000\n"
     ]
    }
   ],
   "source": [
    "import util"
   ]
  },
  {
   "cell_type": "markdown",
   "metadata": {},
   "source": [
    "The util.py file contains a couple useful methods and packages. It contains the entire socket package, the entire Cryptodome package, as well as the following methods: \n",
    "- encrypt(message, key, nonce)\n",
    "- decrypt(ciphertext, key, nonce)\n",
    "- hash(message, key, nonce)\n",
    "- generate_n()\n",
    "- generate_k()\n",
    "These methods all use various Cryptodome features, with several constants to ensure we're building based on the same model design."
   ]
  },
  {
   "cell_type": "code",
   "execution_count": 11,
   "metadata": {},
   "outputs": [
    {
     "name": "stdout",
     "output_type": "stream",
     "text": [
      "b'B\\x85F \\xaa\\xd7@ \\x81\\x1e~\\x0cZC\\x95\\xfc)\\xf3\\xaa{\\x08\\x8c\\x10\\xb9\\x8e\\xe8Oa\\xb1\\xa6qh'\n",
      "b'\\xc8U\\x9c\\xe5:\\x19\\xae\\xe4\\t\\x02U\\xd5\\xf9\\xb4'\n"
     ]
    }
   ],
   "source": [
    "k_ma = util.generate_k()\n",
    "n = util.generate_n()\n",
    "req = b\"thisisamessage\"\n",
    "\n",
    "h = util.hash(n, req, k_ma)\n",
    "m = util.encrypt(req, k_ma, n)\n",
    "\n",
    "client_socket = util.socket.socket(util.socket.AF_INET, util.socket.SOCK_STREAM)\n",
    "client_socket.connect((util.SERVER[\"alias\"], util.SERVER[\"port\"]))\n",
    "\n",
    "print(h)\n",
    "print(m)\n",
    "\n",
    "client_socket.sendall(n + m + h)\n",
    "\n",
    "client_socket.close()"
   ]
  },
  {
   "cell_type": "markdown",
   "metadata": {},
   "source": [
    "CODE IN DEVELOPMENT"
   ]
  },
  {
   "cell_type": "code",
   "execution_count": 1,
   "metadata": {},
   "outputs": [
    {
     "name": "stdout",
     "output_type": "stream",
     "text": [
      "phone's RSA keys:\n"
     ]
    }
   ],
   "source": [
    "from Crypto.PublicKey import RSA\n",
    "from Crypto.Cipher import PKCS1_OAEP\n",
    "from Crypto.Hash import SHA256\n",
    "import socket\n",
    "\n",
    "from util import SERVER, generate_n\n",
    "\n",
    "import util\n",
    "\n",
    "def phone():\n",
    "    private_key = util.PHONE_PRIVATE_KEY\n",
    "    public_key = util.PUBLIC_KEY\n",
    "\n",
    "    print(\"phone's RSA keys:\")\n",
    "    #print(f\"Private Key: {private_key.decode()}\")\n",
    "    #print(f\"Public Key: {public_key.decode()}\")\n",
    "\n",
    "    sock = socket.socket(socket.AF_INET, socket.SOCK_STREAM)\n",
    "    sock.connect((SERVER[\"alias\"], SERVER[\"port\"]))\n",
    "\n",
    "    nonce_p = generate_n()\n",
    "    cipher = PKCS1_OAEP.new(RSA.import_key(public_key))\n",
    "    encrypted_nonce_p = cipher.encrypt(nonce_p)\n",
    "    sock.send(encrypted_nonce_p + public_key)\n",
    "\n",
    "    received_data = sock.recv(1024)\n",
    "    encrypted_nonce_s = received_data[:256]\n",
    "    server_public_key = received_data[256:]\n",
    "\n",
    "    print(received_data)\n",
    "    print(\"\\n\")\n",
    "    print((encrypted_nonce_s))\n",
    "    print(\"\\n\")\n",
    "    print(server_public_key)\n",
    "\n",
    "    cipher = PKCS1_OAEP.new(RSA.import_key(private_key))\n",
    "    nonce_s = cipher.decrypt(encrypted_nonce_s)\n",
    "\n",
    "    cipher = PKCS1_OAEP.new(RSA.import_key(server_public_key))\n",
    "    encrypted_nonce_s = cipher.encrypt(nonce_s)\n",
    "    sock.send(encrypted_nonce_s)\n",
    "\n",
    "    print(\"3-way handshake completed\")\n",
    "\n",
    "    message = b\"bruh\"\n",
    "    cipher = PKCS1_OAEP.new(RSA.import_key(server_public_key))\n",
    "    encrypted_message = cipher.encrypt(message)\n",
    "    sock.send(encrypted_message)\n",
    "\n",
    "    print(\"message sent to server\")\n",
    "\n",
    "if __name__ == \"__main__\":\n",
    "    phone()"
   ]
  }
 ],
 "metadata": {
  "kernelspec": {
   "display_name": "Python 3",
   "language": "python",
   "name": "python3"
  },
  "language_info": {
   "codemirror_mode": {
    "name": "ipython",
    "version": 3
   },
   "file_extension": ".py",
   "mimetype": "text/x-python",
   "name": "python",
   "nbconvert_exporter": "python",
   "pygments_lexer": "ipython3",
   "version": "3.10.11"
  }
 },
 "nbformat": 4,
 "nbformat_minor": 2
}

{
 "cells": [
  {
   "cell_type": "markdown",
   "metadata": {},
   "source": [
    "# Phone"
   ]
  },
  {
   "cell_type": "code",
   "execution_count": 1,
   "metadata": {},
   "outputs": [
    {
     "name": "stdout",
     "output_type": "stream",
     "text": [
      "1000\n"
     ]
    }
   ],
   "source": [
    "import util"
   ]
  },
  {
   "cell_type": "markdown",
   "metadata": {},
   "source": [
    "The util.py file contains a couple useful methods and packages. It contains the entire socket package, the entire Cryptodome package, as well as the following methods: \n",
    "- encrypt(message, key, nonce)\n",
    "- decrypt(ciphertext, key, nonce)\n",
    "- hash(message, key, nonce)\n",
    "- generate_n()\n",
    "- generate_k()\n",
    "These methods all use various Cryptodome features, with several constants to ensure we're building based on the same model design."
   ]
  },
  {
   "cell_type": "code",
   "execution_count": 10,
   "metadata": {},
   "outputs": [],
   "source": [
    "k_ma = util.generate_k()\n",
    "n = util.generate_n()\n",
    "req = b\"thisisamessage\"\n",
    "\n",
    "h = util.hash(n, req, k_ma)\n",
    "m = util.encrypt(req, k_ma, n)\n",
    "\n",
    "client_socket = util.socket.socket(util.socket.AF_INET, util.socket.SOCK_STREAM)\n",
    "client_socket.connect((util.SERVER[\"alias\"], util.SERVER[\"port\"]))\n",
    "\n",
    "print(h)\n",
    "print(m)\n",
    "\n",
    "client_socket.sendall(n + m + h)\n",
    "\n",
    "client_socket.close()"
   ]
  },
  {
   "cell_type": "code",
   "execution_count": null,
   "metadata": {},
   "outputs": [],
   "source": []
  }
 ],
 "metadata": {
  "kernelspec": {
   "display_name": "Python 3",
   "language": "python",
   "name": "python3"
  },
  "language_info": {
   "codemirror_mode": {
    "name": "ipython",
    "version": 3
   },
   "file_extension": ".py",
   "mimetype": "text/x-python",
   "name": "python",
   "nbconvert_exporter": "python",
   "pygments_lexer": "ipython3",
   "version": "3.10.11"
  }
 },
 "nbformat": 4,
 "nbformat_minor": 2
}

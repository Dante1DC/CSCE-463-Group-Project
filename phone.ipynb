{
 "cells": [
  {
   "cell_type": "markdown",
   "metadata": {},
   "source": [
    "# Phone"
   ]
  },
  {
   "cell_type": "markdown",
   "metadata": {},
   "source": [
    "The util.py file contains a couple useful methods and packages. It contains the entire socket package, the entire Cryptodome package, as well as the following methods: \n",
    "- encrypt(message, key, nonce)\n",
    "- decrypt(ciphertext, key, nonce)\n",
    "- hash(message, key, nonce)\n",
    "- generate_n()\n",
    "- generate_k()\n",
    "These methods all use various Cryptodome features, with several constants to ensure we're building based on the same model design."
   ]
  },
  {
   "cell_type": "code",
   "execution_count": 1,
   "metadata": {},
   "outputs": [
    {
     "name": "stdout",
     "output_type": "stream",
     "text": [
      "phone's RSA keys:\n"
     ]
    },
    {
     "ename": "ConnectionResetError",
     "evalue": "[WinError 10054] An existing connection was forcibly closed by the remote host",
     "output_type": "error",
     "traceback": [
      "\u001b[1;31m---------------------------------------------------------------------------\u001b[0m",
      "\u001b[1;31mConnectionResetError\u001b[0m                      Traceback (most recent call last)",
      "Cell \u001b[1;32mIn[1], line 53\u001b[0m\n\u001b[0;32m     50\u001b[0m     \u001b[38;5;28mprint\u001b[39m(\u001b[38;5;124m\"\u001b[39m\u001b[38;5;124mmessage sent to server\u001b[39m\u001b[38;5;124m\"\u001b[39m)\n\u001b[0;32m     52\u001b[0m \u001b[38;5;28;01mif\u001b[39;00m \u001b[38;5;18m__name__\u001b[39m \u001b[38;5;241m==\u001b[39m \u001b[38;5;124m\"\u001b[39m\u001b[38;5;124m__main__\u001b[39m\u001b[38;5;124m\"\u001b[39m:\n\u001b[1;32m---> 53\u001b[0m     \u001b[43mphone\u001b[49m\u001b[43m(\u001b[49m\u001b[43m)\u001b[49m\n",
      "Cell \u001b[1;32mIn[1], line 26\u001b[0m, in \u001b[0;36mphone\u001b[1;34m()\u001b[0m\n\u001b[0;32m     23\u001b[0m encrypted_nonce_p \u001b[38;5;241m=\u001b[39m cipher\u001b[38;5;241m.\u001b[39mencrypt(nonce_p)\n\u001b[0;32m     24\u001b[0m sock\u001b[38;5;241m.\u001b[39msend(encrypted_nonce_p \u001b[38;5;241m+\u001b[39m public_key\u001b[38;5;241m.\u001b[39mexport_key(\u001b[38;5;124m\"\u001b[39m\u001b[38;5;124mPEM\u001b[39m\u001b[38;5;124m\"\u001b[39m))\n\u001b[1;32m---> 26\u001b[0m received_data \u001b[38;5;241m=\u001b[39m \u001b[43msock\u001b[49m\u001b[38;5;241;43m.\u001b[39;49m\u001b[43mrecv\u001b[49m\u001b[43m(\u001b[49m\u001b[38;5;241;43m1024\u001b[39;49m\u001b[43m)\u001b[49m\n\u001b[0;32m     27\u001b[0m encrypted_nonce_s \u001b[38;5;241m=\u001b[39m received_data[:\u001b[38;5;241m256\u001b[39m]\n\u001b[0;32m     28\u001b[0m server_public_key \u001b[38;5;241m=\u001b[39m received_data[\u001b[38;5;241m256\u001b[39m:]\n",
      "\u001b[1;31mConnectionResetError\u001b[0m: [WinError 10054] An existing connection was forcibly closed by the remote host"
     ]
    }
   ],
   "source": [
    "from Crypto.PublicKey import RSA\n",
    "from Crypto.Cipher import PKCS1_OAEP\n",
    "from Crypto.Hash import SHA256\n",
    "import socket\n",
    "\n",
    "from util import SERVER, generate_n\n",
    "\n",
    "import util\n",
    "\n",
    "def phone():\n",
    "    private_key = util.PHONE_PRIVATE_KEY\n",
    "    public_key = util.PHONE_PUBLIC_KEY\n",
    "\n",
    "    print(\"phone's RSA keys:\")\n",
    "    #print(f\"Private Key: {private_key.decode()}\")\n",
    "    #print(f\"Public Key: {public_key.decode()}\")\n",
    "\n",
    "    sock = socket.socket(socket.AF_INET, socket.SOCK_STREAM)\n",
    "    sock.connect((SERVER[\"alias\"], SERVER[\"port\"]))\n",
    "\n",
    "    nonce_p = generate_n()\n",
    "    cipher = PKCS1_OAEP.new(public_key)\n",
    "    encrypted_nonce_p = cipher.encrypt(nonce_p)\n",
    "    sock.send(encrypted_nonce_p + public_key.export_key(\"PEM\"))\n",
    "\n",
    "    received_data = sock.recv(1024)\n",
    "    encrypted_nonce_s = received_data[:256]\n",
    "    server_public_key = received_data[256:]\n",
    "\n",
    "    print(received_data)\n",
    "    print(\"\\n\")\n",
    "    print((encrypted_nonce_s))\n",
    "    print(\"\\n\")\n",
    "    print(server_public_key)\n",
    "\n",
    "    cipher = PKCS1_OAEP.new(private_key)\n",
    "    nonce_s = cipher.decrypt(encrypted_nonce_s)\n",
    "\n",
    "    cipher = PKCS1_OAEP.new(RSA.import_key(server_public_key))\n",
    "    encrypted_nonce_s = cipher.encrypt(nonce_s)\n",
    "    sock.send(encrypted_nonce_s)\n",
    "\n",
    "    print(\"3-way handshake completed\")\n",
    "\n",
    "    message = b\"bruh\"\n",
    "    cipher = PKCS1_OAEP.new(RSA.import_key(server_public_key))\n",
    "    encrypted_message = cipher.encrypt(message)\n",
    "    sock.send(encrypted_message)\n",
    "\n",
    "    print(\"message sent to server\")\n",
    "\n",
    "if __name__ == \"__main__\":\n",
    "    phone()"
   ]
  }
 ],
 "metadata": {
  "kernelspec": {
   "display_name": "Python 3",
   "language": "python",
   "name": "python3"
  },
  "language_info": {
   "codemirror_mode": {
    "name": "ipython",
    "version": 3
   },
   "file_extension": ".py",
   "mimetype": "text/x-python",
   "name": "python",
   "nbconvert_exporter": "python",
   "pygments_lexer": "ipython3",
   "version": "3.10.11"
  }
 },
 "nbformat": 4,
 "nbformat_minor": 2
}

{
 "cells": [
  {
   "cell_type": "markdown",
   "metadata": {},
   "source": [
    "# KDC"
   ]
  },
  {
   "cell_type": "markdown",
   "metadata": {},
   "source": [
    "CODE IN DEVELOPMENT"
   ]
  },
  {
   "cell_type": "code",
   "execution_count": 1,
   "metadata": {},
   "outputs": [
    {
     "name": "stdout",
     "output_type": "stream",
     "text": [
      "KDC has generated the following keys:\n",
      "key for Server (k_ms): cfd7fbb21c78284762249dc9427ce4befab75f1a86ddfeb7e7275ca6c68e6c27\n",
      "key for Device (k_md): 702e1ff2107a487a65a09a684a71fc764dbfe87fe6219dbcc9feef07d08db470\n",
      "KDC listening for server on localhost:1001\n",
      "KDC listening for device on localhost:1002\n",
      "connected to server at ('127.0.0.1', 27212)\n"
     ]
    }
   ],
   "source": [
    "import socket\n",
    "\n",
    "from util import SIZE_K, generate_k, SERVER\n",
    "\n",
    "def kdc():\n",
    "    k_ms = generate_k()  \n",
    "    k_md = generate_k()  \n",
    "\n",
    "    print(\"KDC has generated the following keys:\")\n",
    "    print(f\"key for Server (k_ms): {k_ms.hex()}\")\n",
    "    print(f\"key for Device (k_md): {k_md.hex()}\")\n",
    "\n",
    "    server_sock = socket.socket(socket.AF_INET, socket.SOCK_STREAM)\n",
    "    server_sock.bind((SERVER[\"alias\"], SERVER[\"port\"] + 1))\n",
    "    server_sock.listen(1)\n",
    "    print(\"KDC listening for server on {}:{}\".format(SERVER[\"alias\"], SERVER[\"port\"] + 1))\n",
    "\n",
    "    device_sock = socket.socket(socket.AF_INET, socket.SOCK_STREAM)\n",
    "    device_sock.bind((SERVER[\"alias\"], SERVER[\"port\"] + 2))\n",
    "    device_sock.listen(1)\n",
    "    print(\"KDC listening for device on {}:{}\".format(SERVER[\"alias\"], SERVER[\"port\"] + 2))\n",
    "\n",
    "    conn, addr = server_sock.accept()\n",
    "    print(\"connected to server at {}\".format(addr))\n",
    "    conn.send(k_ms)\n",
    "\n",
    "    conn, addr = device_sock.accept()\n",
    "    print(\"connected to device at {}\".format(addr))\n",
    "    conn.send(k_md)\n",
    "\n",
    "    return k_ms, k_md\n",
    "\n",
    "if __name__ == \"__main__\":\n",
    "    kdc()"
   ]
  }
 ],
 "metadata": {
  "kernelspec": {
   "display_name": "Python 3",
   "language": "python",
   "name": "python3"
  },
  "language_info": {
   "codemirror_mode": {
    "name": "ipython",
    "version": 3
   },
   "file_extension": ".py",
   "mimetype": "text/x-python",
   "name": "python",
   "nbconvert_exporter": "python",
   "pygments_lexer": "ipython3",
   "version": "3.10.11"
  }
 },
 "nbformat": 4,
 "nbformat_minor": 2
}

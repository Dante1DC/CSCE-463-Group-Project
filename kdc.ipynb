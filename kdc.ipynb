{
 "cells": [
  {
   "cell_type": "markdown",
   "metadata": {},
   "source": [
    "# KDC"
   ]
  },
  {
   "cell_type": "markdown",
   "metadata": {},
   "source": [
    "CODE IN DEVELOPMENT"
   ]
  },
  {
   "cell_type": "code",
   "execution_count": 1,
   "metadata": {},
   "outputs": [
    {
     "name": "stdout",
     "output_type": "stream",
     "text": [
      "KDC has generated the following keys:\n",
      "key for Server (k_ms): 8426704fb0f6bad0aefcda356f18a9125927c43143a0516fb16f865193146e4d\n",
      "key for Device (k_md): 6e8d8b9d95c99fec9ffe14990d8e2eb7b5856bca1766e6442be1ca714c988f16\n",
      "KDC listening for server on localhost:3001\n",
      "KDC listening for device on localhost:3002\n",
      "connected to server at ('127.0.0.1', 59460)\n"
     ]
    }
   ],
   "source": [
    "import socket\n",
    "\n",
    "from util import SIZE_K, generate_k, SERVER\n",
    "\n",
    "def kdc():\n",
    "    k_ms = generate_k()  \n",
    "    k_md = generate_k()  \n",
    "\n",
    "    print(\"KDC has generated the following keys:\")\n",
    "    print(f\"key for Server (k_ms): {k_ms.hex()}\")\n",
    "    print(f\"key for Device (k_md): {k_md.hex()}\")\n",
    "\n",
    "    server_sock = socket.socket(socket.AF_INET, socket.SOCK_STREAM)\n",
    "    server_sock.bind((SERVER[\"alias\"], SERVER[\"port\"] + 1))\n",
    "    server_sock.listen(1)\n",
    "    print(\"KDC listening for server on {}:{}\".format(SERVER[\"alias\"], SERVER[\"port\"] + 1))\n",
    "\n",
    "    device_sock = socket.socket(socket.AF_INET, socket.SOCK_STREAM)\n",
    "    device_sock.bind((SERVER[\"alias\"], SERVER[\"port\"] + 2))\n",
    "    device_sock.listen(1)\n",
    "    print(\"KDC listening for device on {}:{}\".format(SERVER[\"alias\"], SERVER[\"port\"] + 2))\n",
    "\n",
    "    conn, addr = server_sock.accept()\n",
    "    print(\"connected to server at {}\".format(addr))\n",
    "    conn.send(k_ms)\n",
    "\n",
    "    conn, addr = device_sock.accept()\n",
    "    print(\"connected to device at {}\".format(addr))\n",
    "    conn.send(k_md)\n",
    "\n",
    "    return k_ms, k_md\n",
    "\n",
    "if __name__ == \"__main__\":\n",
    "    kdc()"
   ]
  }
 ],
 "metadata": {
  "kernelspec": {
   "display_name": "Python 3",
   "language": "python",
   "name": "python3"
  },
  "language_info": {
   "codemirror_mode": {
    "name": "ipython",
    "version": 3
   },
   "file_extension": ".py",
   "mimetype": "text/x-python",
   "name": "python",
   "nbconvert_exporter": "python",
   "pygments_lexer": "ipython3",
   "version": "3.12.3"
  }
 },
 "nbformat": 4,
 "nbformat_minor": 2
}
